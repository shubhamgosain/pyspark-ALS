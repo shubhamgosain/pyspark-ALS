{
 "cells": [
  {
   "cell_type": "code",
   "execution_count": 180,
   "metadata": {},
   "outputs": [
    {
     "name": "stdout",
     "output_type": "stream",
     "text": [
      "Prediction :userid=450,movie=480(using RDD) 2.7830716510438998 \n",
      "\n",
      "Prediction :userid=450,movie=480(using DataFrame) 2.6817717033689132 \n",
      "\n",
      "Prediction :Difference(RDD-DataFrame) 0.10129994767498651\n"
     ]
    }
   ],
   "source": [
    "import pandas as pd\n",
    "from pyspark.mllib.recommendation import ALS, Rating\n",
    "\n",
    "#Provide Path of ratings.csv dataset in \"path\" variable\n",
    "path=\"C:\\\\Program Files\\\\Git\\\\MyGitFilesDirectory\\\\data\\\\retail_db\\\\orders\\\\ml-latest-small\\\\ratings.csv\"\n",
    "\n",
    "#Raw Data in RDD\n",
    "rat=sc.textFile(path)\n",
    "\n",
    "#Transformation\n",
    "ratings=rat.map(lambda rec:rec.split(\",\")).map(lambda rec: (rec[0],rec[1],rec[2]))\n",
    "header=ratings.first()\n",
    "ratings=ratings.filter(lambda rec: rec!=header)\n",
    "\n",
    "#DataFrame\n",
    "ratingsDF = spark.createDataFrame(ratings)\n",
    "\n",
    "#ALS in RDD\n",
    "ratings = ratings.map(lambda l: Rating(int(l[0]), int(l[1]), float(l[2])))\n",
    "rank = 50\n",
    "numIterations = 10\n",
    "userid,movieid=450,480\n",
    "model = ALS.train(ratings, rank,numIterations,0.01 )\n",
    "PredictFromDataFrame = model.predict(userid,movieid)\n",
    "\n",
    "#ALS in DataFrame\n",
    "model1 = ALS.train(ratingsDF, rank,numIterations,0.01 )\n",
    "PredictFromRDD = model1.predict(userid,movieid)\n",
    "\n",
    "\n",
    "print(\"Prediction :userid=450,movie=480(using RDD)\",PredictFromDataFrame ,\"\\n\")\n",
    "print(\"Prediction :userid=450,movie=480(using DataFrame)\", PredictFromRDD ,\"\\n\")\n",
    "print(\"Prediction :Difference(RDD-DataFrame)\", PredictFromDataFrame-PredictFromRDD)"
   ]
  },
  {
   "cell_type": "code",
   "execution_count": null,
   "metadata": {
    "collapsed": true
   },
   "outputs": [],
   "source": []
  }
 ],
 "metadata": {
  "kernelspec": {
   "display_name": "Python 3",
   "language": "python",
   "name": "python3"
  },
  "language_info": {
   "codemirror_mode": {
    "name": "ipython",
    "version": 3
   },
   "file_extension": ".py",
   "mimetype": "text/x-python",
   "name": "python",
   "nbconvert_exporter": "python",
   "pygments_lexer": "ipython3",
   "version": "3.6.3"
  }
 },
 "nbformat": 4,
 "nbformat_minor": 2
}
