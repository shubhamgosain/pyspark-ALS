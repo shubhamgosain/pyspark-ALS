{
 "cells": [
  {
   "cell_type": "code",
   "execution_count": 1,
   "metadata": {
    "collapsed": true
   },
   "outputs": [],
   "source": [
    "import pandas as pd\n",
    "from pyspark.mllib.recommendation import ALS, Rating\n",
    "\n",
    "#Provide Path of ratings.csv dataset in \"path\" variable\n",
    "path_rating=\"C:\\\\Program Files\\\\Git\\\\MyGitFilesDirectory\\\\data\\\\retail_db\\\\orders\\\\ml-latest-small\\\\ratings.csv\"\n",
    "path_movie=\"C:\\\\Program Files\\\\Git\\\\MyGitFilesDirectory\\\\data\\\\retail_db\\\\orders\\\\ml-latest-small\\\\movies.csv\"\n",
    "\n",
    "#Raw Data in RDD\n",
    "rat=sc.textFile(path_rating)\n",
    "mov=sc.textFile(path_movie)\n",
    "\n",
    "#Transformation\n",
    "movies=mov.map(lambda rec:rec.split(\",\")).map(lambda rec: (rec[0],rec[1]))\n",
    "ratings=rat.map(lambda rec:rec.split(\",\")).map(lambda rec: (rec[0],rec[1],rec[2]))\n",
    "header=ratings.first()\n",
    "ratings=ratings.filter(lambda rec: rec!=header)\n",
    "\n",
    "#DataFrame\n",
    "ratingsDF = spark.createDataFrame(ratings)\n",
    "\n",
    "\n"
   ]
  },
  {
   "cell_type": "code",
   "execution_count": 2,
   "metadata": {
    "collapsed": true
   },
   "outputs": [],
   "source": [
    "#ALS in RDD\n",
    "ratings = ratings.map(lambda l: Rating(int(l[0]), int(l[1]), float(l[2])))\n",
    "rank = 50\n",
    "numIterations = 10\n",
    "userid,movieid=450,480\n",
    "model = ALS.train(ratings, rank,numIterations,0.01 )\n",
    "PredictFromDataFrame = model.predict(userid,movieid)\n",
    "\n",
    "#ALS in DataFrame\n",
    "model1 = ALS.train(ratingsDF, rank,numIterations,0.01 )\n",
    "PredictFromRDD = model1.predict(userid,movieid)\n"
   ]
  },
  {
   "cell_type": "code",
   "execution_count": 3,
   "metadata": {},
   "outputs": [
    {
     "name": "stdout",
     "output_type": "stream",
     "text": [
      "Prediction :userid= 450  movie= Jurassic Park (1993) (using RDD) 3.152263383520011 \n",
      "\n",
      "Prediction :userid= 450  movie= Jurassic Park (1993) (using DataFrame) 2.862002668139766 \n",
      "\n",
      "Prediction :Difference(RDD-DataFrame) 0.2902607153802448\n"
     ]
    }
   ],
   "source": [
    "moviename=movies.filter(lambda x: (x[0]!=\"movieId\")).filter(lambda x:int(x[0])==movieid).first()[1]\n",
    "print(\"Prediction :userid=\",userid,\" movie=\",moviename,\"(using RDD)\",PredictFromDataFrame ,\"\\n\")\n",
    "print(\"Prediction :userid=\",userid,\" movie=\",moviename,\"(using DataFrame)\", PredictFromRDD ,\"\\n\")\n",
    "print(\"Prediction :Difference(RDD-DataFrame)\", PredictFromDataFrame-PredictFromRDD)"
   ]
  },
  {
   "cell_type": "code",
   "execution_count": null,
   "metadata": {
    "collapsed": true
   },
   "outputs": [],
   "source": []
  }
 ],
 "metadata": {
  "kernelspec": {
   "display_name": "Python 3",
   "language": "python",
   "name": "python3"
  },
  "language_info": {
   "codemirror_mode": {
    "name": "ipython",
    "version": 3
   },
   "file_extension": ".py",
   "mimetype": "text/x-python",
   "name": "python",
   "nbconvert_exporter": "python",
   "pygments_lexer": "ipython3",
   "version": "3.6.3"
  }
 },
 "nbformat": 4,
 "nbformat_minor": 2
}
